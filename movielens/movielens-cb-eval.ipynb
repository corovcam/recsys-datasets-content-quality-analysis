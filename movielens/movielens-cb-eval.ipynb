{
 "cells": [
  {
   "attachments": {},
   "cell_type": "markdown",
   "metadata": {},
   "source": [
    "# Movielens 100k - Content-based RS Evaluation"
   ]
  },
  {
   "attachments": {},
   "cell_type": "markdown",
   "metadata": {},
   "source": [
    "For this evaluation precomputed Item-to-Item similarities were used. To generate required data, run \"*movielens-cb.ipynb*\" notebook."
   ]
  },
  {
   "cell_type": "code",
   "execution_count": 4,
   "metadata": {},
   "outputs": [],
   "source": [
    "import numpy as np\n",
    "import pandas as pd\n",
    "from matplotlib import pyplot as plt\n",
    "from pandas.errors import SettingWithCopyWarning\n",
    "from sklearn.model_selection import train_test_split\n",
    "import warnings\n",
    "warnings.simplefilter(action='ignore', category=FutureWarning)\n",
    "warnings.simplefilter(action='ignore', category=SettingWithCopyWarning)"
   ]
  },
  {
   "cell_type": "code",
   "execution_count": 5,
   "metadata": {},
   "outputs": [
    {
     "data": {
      "text/html": [
       "<div>\n",
       "<style scoped>\n",
       "    .dataframe tbody tr th:only-of-type {\n",
       "        vertical-align: middle;\n",
       "    }\n",
       "\n",
       "    .dataframe tbody tr th {\n",
       "        vertical-align: top;\n",
       "    }\n",
       "\n",
       "    .dataframe thead th {\n",
       "        text-align: right;\n",
       "    }\n",
       "</style>\n",
       "<table border=\"1\" class=\"dataframe\">\n",
       "  <thead>\n",
       "    <tr style=\"text-align: right;\">\n",
       "      <th></th>\n",
       "      <th>userId</th>\n",
       "      <th>movieId</th>\n",
       "      <th>rating</th>\n",
       "      <th>timestamp</th>\n",
       "    </tr>\n",
       "  </thead>\n",
       "  <tbody>\n",
       "    <tr>\n",
       "      <th>0</th>\n",
       "      <td>1</td>\n",
       "      <td>1</td>\n",
       "      <td>4.0</td>\n",
       "      <td>964982703</td>\n",
       "    </tr>\n",
       "    <tr>\n",
       "      <th>1</th>\n",
       "      <td>1</td>\n",
       "      <td>3</td>\n",
       "      <td>4.0</td>\n",
       "      <td>964981247</td>\n",
       "    </tr>\n",
       "    <tr>\n",
       "      <th>2</th>\n",
       "      <td>1</td>\n",
       "      <td>6</td>\n",
       "      <td>4.0</td>\n",
       "      <td>964982224</td>\n",
       "    </tr>\n",
       "    <tr>\n",
       "      <th>3</th>\n",
       "      <td>1</td>\n",
       "      <td>47</td>\n",
       "      <td>5.0</td>\n",
       "      <td>964983815</td>\n",
       "    </tr>\n",
       "    <tr>\n",
       "      <th>4</th>\n",
       "      <td>1</td>\n",
       "      <td>50</td>\n",
       "      <td>5.0</td>\n",
       "      <td>964982931</td>\n",
       "    </tr>\n",
       "    <tr>\n",
       "      <th>...</th>\n",
       "      <td>...</td>\n",
       "      <td>...</td>\n",
       "      <td>...</td>\n",
       "      <td>...</td>\n",
       "    </tr>\n",
       "    <tr>\n",
       "      <th>100831</th>\n",
       "      <td>610</td>\n",
       "      <td>166534</td>\n",
       "      <td>4.0</td>\n",
       "      <td>1493848402</td>\n",
       "    </tr>\n",
       "    <tr>\n",
       "      <th>100832</th>\n",
       "      <td>610</td>\n",
       "      <td>168248</td>\n",
       "      <td>5.0</td>\n",
       "      <td>1493850091</td>\n",
       "    </tr>\n",
       "    <tr>\n",
       "      <th>100833</th>\n",
       "      <td>610</td>\n",
       "      <td>168250</td>\n",
       "      <td>5.0</td>\n",
       "      <td>1494273047</td>\n",
       "    </tr>\n",
       "    <tr>\n",
       "      <th>100834</th>\n",
       "      <td>610</td>\n",
       "      <td>168252</td>\n",
       "      <td>5.0</td>\n",
       "      <td>1493846352</td>\n",
       "    </tr>\n",
       "    <tr>\n",
       "      <th>100835</th>\n",
       "      <td>610</td>\n",
       "      <td>170875</td>\n",
       "      <td>3.0</td>\n",
       "      <td>1493846415</td>\n",
       "    </tr>\n",
       "  </tbody>\n",
       "</table>\n",
       "<p>100836 rows × 4 columns</p>\n",
       "</div>"
      ],
      "text/plain": [
       "        userId  movieId  rating   timestamp\n",
       "0            1        1     4.0   964982703\n",
       "1            1        3     4.0   964981247\n",
       "2            1        6     4.0   964982224\n",
       "3            1       47     5.0   964983815\n",
       "4            1       50     5.0   964982931\n",
       "...        ...      ...     ...         ...\n",
       "100831     610   166534     4.0  1493848402\n",
       "100832     610   168248     5.0  1493850091\n",
       "100833     610   168250     5.0  1494273047\n",
       "100834     610   168252     5.0  1493846352\n",
       "100835     610   170875     3.0  1493846415\n",
       "\n",
       "[100836 rows x 4 columns]"
      ]
     },
     "execution_count": 5,
     "metadata": {},
     "output_type": "execute_result"
    }
   ],
   "source": [
    "df = pd.read_csv(\"ml-latest-small/ratings.csv\", sep=\",\")\n",
    "df"
   ]
  },
  {
   "cell_type": "code",
   "execution_count": 6,
   "metadata": {},
   "outputs": [
    {
     "data": {
      "text/html": [
       "<div>\n",
       "<style scoped>\n",
       "    .dataframe tbody tr th:only-of-type {\n",
       "        vertical-align: middle;\n",
       "    }\n",
       "\n",
       "    .dataframe tbody tr th {\n",
       "        vertical-align: top;\n",
       "    }\n",
       "\n",
       "    .dataframe thead th {\n",
       "        text-align: right;\n",
       "    }\n",
       "</style>\n",
       "<table border=\"1\" class=\"dataframe\">\n",
       "  <thead>\n",
       "    <tr style=\"text-align: right;\">\n",
       "      <th></th>\n",
       "      <th>title</th>\n",
       "      <th>genres</th>\n",
       "      <th>year</th>\n",
       "    </tr>\n",
       "    <tr>\n",
       "      <th>movieId</th>\n",
       "      <th></th>\n",
       "      <th></th>\n",
       "      <th></th>\n",
       "    </tr>\n",
       "  </thead>\n",
       "  <tbody>\n",
       "    <tr>\n",
       "      <th>1</th>\n",
       "      <td>Toy Story</td>\n",
       "      <td>adventure|animation|children|comedy|fantasy</td>\n",
       "      <td>1995.0</td>\n",
       "    </tr>\n",
       "    <tr>\n",
       "      <th>2</th>\n",
       "      <td>Jumanji</td>\n",
       "      <td>adventure|children|fantasy</td>\n",
       "      <td>1995.0</td>\n",
       "    </tr>\n",
       "    <tr>\n",
       "      <th>3</th>\n",
       "      <td>Grumpier Old Men</td>\n",
       "      <td>comedy|romance</td>\n",
       "      <td>1995.0</td>\n",
       "    </tr>\n",
       "    <tr>\n",
       "      <th>4</th>\n",
       "      <td>Waiting to Exhale</td>\n",
       "      <td>comedy|drama|romance</td>\n",
       "      <td>1995.0</td>\n",
       "    </tr>\n",
       "    <tr>\n",
       "      <th>5</th>\n",
       "      <td>Father of the Bride Part II</td>\n",
       "      <td>comedy</td>\n",
       "      <td>1995.0</td>\n",
       "    </tr>\n",
       "    <tr>\n",
       "      <th>...</th>\n",
       "      <td>...</td>\n",
       "      <td>...</td>\n",
       "      <td>...</td>\n",
       "    </tr>\n",
       "    <tr>\n",
       "      <th>193581</th>\n",
       "      <td>Black Butler: Book of the Atlantic</td>\n",
       "      <td>action|animation|comedy|fantasy</td>\n",
       "      <td>2017.0</td>\n",
       "    </tr>\n",
       "    <tr>\n",
       "      <th>193583</th>\n",
       "      <td>No Game No Life: Zero</td>\n",
       "      <td>animation|comedy|fantasy</td>\n",
       "      <td>2017.0</td>\n",
       "    </tr>\n",
       "    <tr>\n",
       "      <th>193585</th>\n",
       "      <td>Flint</td>\n",
       "      <td>drama</td>\n",
       "      <td>2017.0</td>\n",
       "    </tr>\n",
       "    <tr>\n",
       "      <th>193587</th>\n",
       "      <td>Bungo Stray Dogs: Dead Apple</td>\n",
       "      <td>action|animation</td>\n",
       "      <td>2018.0</td>\n",
       "    </tr>\n",
       "    <tr>\n",
       "      <th>193609</th>\n",
       "      <td>Andrew Dice Clay: Dice Rules</td>\n",
       "      <td>comedy</td>\n",
       "      <td>1991.0</td>\n",
       "    </tr>\n",
       "  </tbody>\n",
       "</table>\n",
       "<p>9742 rows × 3 columns</p>\n",
       "</div>"
      ],
      "text/plain": [
       "                                      title  \\\n",
       "movieId                                       \n",
       "1                                 Toy Story   \n",
       "2                                   Jumanji   \n",
       "3                          Grumpier Old Men   \n",
       "4                         Waiting to Exhale   \n",
       "5               Father of the Bride Part II   \n",
       "...                                     ...   \n",
       "193581   Black Butler: Book of the Atlantic   \n",
       "193583                No Game No Life: Zero   \n",
       "193585                                Flint   \n",
       "193587         Bungo Stray Dogs: Dead Apple   \n",
       "193609         Andrew Dice Clay: Dice Rules   \n",
       "\n",
       "                                              genres    year  \n",
       "movieId                                                       \n",
       "1        adventure|animation|children|comedy|fantasy  1995.0  \n",
       "2                         adventure|children|fantasy  1995.0  \n",
       "3                                     comedy|romance  1995.0  \n",
       "4                               comedy|drama|romance  1995.0  \n",
       "5                                             comedy  1995.0  \n",
       "...                                              ...     ...  \n",
       "193581               action|animation|comedy|fantasy  2017.0  \n",
       "193583                      animation|comedy|fantasy  2017.0  \n",
       "193585                                         drama  2017.0  \n",
       "193587                              action|animation  2018.0  \n",
       "193609                                        comedy  1991.0  \n",
       "\n",
       "[9742 rows x 3 columns]"
      ]
     },
     "execution_count": 6,
     "metadata": {},
     "output_type": "execute_result"
    }
   ],
   "source": [
    "moviesDF = pd.read_csv(\"ml-latest-small/movies.csv\", sep=\",\")\n",
    "moviesDF.movieId = moviesDF.movieId.astype(int)\n",
    "moviesDF.set_index(\"movieId\", inplace=True)\n",
    "\n",
    "# Extract years\n",
    "moviesDF[\"year\"] = moviesDF.title.str.extract(r'\\(([0-9]+)\\)')\n",
    "moviesDF[\"year\"] = moviesDF.year.astype(\"float\")\n",
    "\n",
    "# Clean title\n",
    "moviesDF[\"title\"] = moviesDF.title.str.replace(r'\\(([0-9]+)\\)$', \"\").str.strip()\n",
    "\n",
    "# Clean genres\n",
    "moviesDF[\"genres\"] = moviesDF.genres.str.lower()\n",
    "\n",
    "moviesDF"
   ]
  },
  {
   "cell_type": "code",
   "execution_count": 7,
   "metadata": {},
   "outputs": [],
   "source": [
    "df[\"title\"] = moviesDF.title.loc[df.movieId].values\n",
    "df.drop(columns=[\"timestamp\"], inplace=True)"
   ]
  },
  {
   "attachments": {},
   "cell_type": "markdown",
   "metadata": {},
   "source": [
    "Let's use ratings by people, that have more than 20 ratings total for evaluation."
   ]
  },
  {
   "cell_type": "code",
   "execution_count": 8,
   "metadata": {},
   "outputs": [
    {
     "data": {
      "text/html": [
       "<div>\n",
       "<style scoped>\n",
       "    .dataframe tbody tr th:only-of-type {\n",
       "        vertical-align: middle;\n",
       "    }\n",
       "\n",
       "    .dataframe tbody tr th {\n",
       "        vertical-align: top;\n",
       "    }\n",
       "\n",
       "    .dataframe thead th {\n",
       "        text-align: right;\n",
       "    }\n",
       "</style>\n",
       "<table border=\"1\" class=\"dataframe\">\n",
       "  <thead>\n",
       "    <tr style=\"text-align: right;\">\n",
       "      <th></th>\n",
       "      <th>userId</th>\n",
       "      <th>movieId</th>\n",
       "      <th>rating</th>\n",
       "      <th>title</th>\n",
       "    </tr>\n",
       "  </thead>\n",
       "  <tbody>\n",
       "    <tr>\n",
       "      <th>0</th>\n",
       "      <td>1</td>\n",
       "      <td>1</td>\n",
       "      <td>4.0</td>\n",
       "      <td>Toy Story</td>\n",
       "    </tr>\n",
       "    <tr>\n",
       "      <th>1</th>\n",
       "      <td>1</td>\n",
       "      <td>3</td>\n",
       "      <td>4.0</td>\n",
       "      <td>Grumpier Old Men</td>\n",
       "    </tr>\n",
       "    <tr>\n",
       "      <th>2</th>\n",
       "      <td>1</td>\n",
       "      <td>6</td>\n",
       "      <td>4.0</td>\n",
       "      <td>Heat</td>\n",
       "    </tr>\n",
       "    <tr>\n",
       "      <th>3</th>\n",
       "      <td>1</td>\n",
       "      <td>47</td>\n",
       "      <td>5.0</td>\n",
       "      <td>Seven (a.k.a. Se7en)</td>\n",
       "    </tr>\n",
       "    <tr>\n",
       "      <th>4</th>\n",
       "      <td>1</td>\n",
       "      <td>50</td>\n",
       "      <td>5.0</td>\n",
       "      <td>Usual Suspects, The</td>\n",
       "    </tr>\n",
       "    <tr>\n",
       "      <th>...</th>\n",
       "      <td>...</td>\n",
       "      <td>...</td>\n",
       "      <td>...</td>\n",
       "      <td>...</td>\n",
       "    </tr>\n",
       "    <tr>\n",
       "      <th>100803</th>\n",
       "      <td>610</td>\n",
       "      <td>148626</td>\n",
       "      <td>4.0</td>\n",
       "      <td>Big Short, The</td>\n",
       "    </tr>\n",
       "    <tr>\n",
       "      <th>100808</th>\n",
       "      <td>610</td>\n",
       "      <td>152081</td>\n",
       "      <td>4.0</td>\n",
       "      <td>Zootopia</td>\n",
       "    </tr>\n",
       "    <tr>\n",
       "      <th>100829</th>\n",
       "      <td>610</td>\n",
       "      <td>164179</td>\n",
       "      <td>5.0</td>\n",
       "      <td>Arrival</td>\n",
       "    </tr>\n",
       "    <tr>\n",
       "      <th>100830</th>\n",
       "      <td>610</td>\n",
       "      <td>166528</td>\n",
       "      <td>4.0</td>\n",
       "      <td>Rogue One: A Star Wars Story</td>\n",
       "    </tr>\n",
       "    <tr>\n",
       "      <th>100834</th>\n",
       "      <td>610</td>\n",
       "      <td>168252</td>\n",
       "      <td>5.0</td>\n",
       "      <td>Logan</td>\n",
       "    </tr>\n",
       "  </tbody>\n",
       "</table>\n",
       "<p>67898 rows × 4 columns</p>\n",
       "</div>"
      ],
      "text/plain": [
       "        userId  movieId  rating                         title\n",
       "0            1        1     4.0                     Toy Story\n",
       "1            1        3     4.0              Grumpier Old Men\n",
       "2            1        6     4.0                          Heat\n",
       "3            1       47     5.0          Seven (a.k.a. Se7en)\n",
       "4            1       50     5.0           Usual Suspects, The\n",
       "...        ...      ...     ...                           ...\n",
       "100803     610   148626     4.0                Big Short, The\n",
       "100808     610   152081     4.0                      Zootopia\n",
       "100829     610   164179     5.0                       Arrival\n",
       "100830     610   166528     4.0  Rogue One: A Star Wars Story\n",
       "100834     610   168252     5.0                         Logan\n",
       "\n",
       "[67898 rows x 4 columns]"
      ]
     },
     "execution_count": 8,
     "metadata": {},
     "output_type": "execute_result"
    }
   ],
   "source": [
    "ratingCounts = df.groupby(\"movieId\")[\"userId\"].count()\n",
    "valid_items = ratingCounts.loc[ratingCounts >= 20].index.values\n",
    "df = df.loc[df.movieId.isin(valid_items)]\n",
    "df"
   ]
  },
  {
   "cell_type": "code",
   "execution_count": 9,
   "metadata": {},
   "outputs": [
    {
     "data": {
      "text/plain": [
       "<AxesSubplot: >"
      ]
     },
     "execution_count": 9,
     "metadata": {},
     "output_type": "execute_result"
    },
    {
     "data": {
      "image/png": "[encoded data removed]",
      "text/plain": [
       "<Figure size 640x480 with 1 Axes>"
      ]
     },
     "metadata": {},
     "output_type": "display_data"
    }
   ],
   "source": [
    "df.rating.value_counts().plot(kind = \"bar\")"
   ]
  },
  {
   "attachments": {},
   "cell_type": "markdown",
   "metadata": {},
   "source": [
    "### Mapping users and items"
   ]
  },
  {
   "cell_type": "code",
   "execution_count": 10,
   "metadata": {},
   "outputs": [],
   "source": [
    "map_users = {user: u_id for u_id, user in enumerate(df.userId.unique())}\n",
    "map_items = {item: i_id for i_id, item in enumerate(df.movieId.unique())}\n",
    "\n",
    "df[\"movieId\"] = df[\"movieId\"].map(map_items)\n",
    "df[\"userId\"] = df[\"userId\"].map(map_users)"
   ]
  },
  {
   "cell_type": "code",
   "execution_count": 11,
   "metadata": {},
   "outputs": [
    {
     "data": {
      "text/html": [
       "<div>\n",
       "<style scoped>\n",
       "    .dataframe tbody tr th:only-of-type {\n",
       "        vertical-align: middle;\n",
       "    }\n",
       "\n",
       "    .dataframe tbody tr th {\n",
       "        vertical-align: top;\n",
       "    }\n",
       "\n",
       "    .dataframe thead th {\n",
       "        text-align: right;\n",
       "    }\n",
       "</style>\n",
       "<table border=\"1\" class=\"dataframe\">\n",
       "  <thead>\n",
       "    <tr style=\"text-align: right;\">\n",
       "      <th></th>\n",
       "      <th>userId</th>\n",
       "      <th>movieId</th>\n",
       "      <th>rating</th>\n",
       "      <th>title</th>\n",
       "    </tr>\n",
       "  </thead>\n",
       "  <tbody>\n",
       "    <tr>\n",
       "      <th>0</th>\n",
       "      <td>0</td>\n",
       "      <td>0</td>\n",
       "      <td>4.0</td>\n",
       "      <td>Toy Story</td>\n",
       "    </tr>\n",
       "    <tr>\n",
       "      <th>1</th>\n",
       "      <td>0</td>\n",
       "      <td>1</td>\n",
       "      <td>4.0</td>\n",
       "      <td>Grumpier Old Men</td>\n",
       "    </tr>\n",
       "    <tr>\n",
       "      <th>2</th>\n",
       "      <td>0</td>\n",
       "      <td>2</td>\n",
       "      <td>4.0</td>\n",
       "      <td>Heat</td>\n",
       "    </tr>\n",
       "    <tr>\n",
       "      <th>3</th>\n",
       "      <td>0</td>\n",
       "      <td>3</td>\n",
       "      <td>5.0</td>\n",
       "      <td>Seven (a.k.a. Se7en)</td>\n",
       "    </tr>\n",
       "    <tr>\n",
       "      <th>4</th>\n",
       "      <td>0</td>\n",
       "      <td>4</td>\n",
       "      <td>5.0</td>\n",
       "      <td>Usual Suspects, The</td>\n",
       "    </tr>\n",
       "  </tbody>\n",
       "</table>\n",
       "</div>"
      ],
      "text/plain": [
       "   userId  movieId  rating                 title\n",
       "0       0        0     4.0             Toy Story\n",
       "1       0        1     4.0      Grumpier Old Men\n",
       "2       0        2     4.0                  Heat\n",
       "3       0        3     5.0  Seven (a.k.a. Se7en)\n",
       "4       0        4     5.0   Usual Suspects, The"
      ]
     },
     "execution_count": 11,
     "metadata": {},
     "output_type": "execute_result"
    }
   ],
   "source": [
    "df.head()"
   ]
  },
  {
   "attachments": {},
   "cell_type": "markdown",
   "metadata": {},
   "source": [
    "### Creating inverse mappings for future recommendations"
   ]
  },
  {
   "cell_type": "code",
   "execution_count": 12,
   "metadata": {},
   "outputs": [],
   "source": [
    "movieId_title = {}\n",
    "for idx, row in df.iterrows():\n",
    "    movieId_title[row[\"movieId\"]] = row[\"title\"]\n",
    "    \n",
    "np.save(\"mappings/map_title.npy\", movieId_title)\n",
    "    \n",
    "movieId_genres = pd.Series(moviesDF.genres, index = moviesDF.index)\n",
    "    \n",
    "np.save(\"mappings/map_genres.npy\", movieId_genres)\n",
    "\n",
    "movieId_tags = pd.Series(np.load(\"mappings/map_tags.npy\", allow_pickle=True))"
   ]
  },
  {
   "attachments": {},
   "cell_type": "markdown",
   "metadata": {},
   "source": [
    "### Split User-Item Dataset "
   ]
  },
  {
   "cell_type": "code",
   "execution_count": 13,
   "metadata": {},
   "outputs": [],
   "source": [
    "# Using randomized (0.33 * df.size) for testing and the rest (0.67 * df.size) for training\n",
    "train, test = train_test_split(df, test_size = 0.33, random_state = 56)\n",
    "train.to_csv(\"train.dat\", index=False, header=False, sep=\"\\t\", encoding=\"CP1250\", errors=\"ignore\")\n",
    "test.to_csv(\"test.dat\", index=False, header=False, sep=\"\\t\", encoding=\"CP1250\", errors=\"ignore\")"
   ]
  },
  {
   "attachments": {},
   "cell_type": "markdown",
   "metadata": {},
   "source": [
    "### Content-based similarities preprocessing"
   ]
  },
  {
   "cell_type": "code",
   "execution_count": 14,
   "metadata": {},
   "outputs": [
    {
     "data": {
      "text/plain": [
       "(1297,)"
      ]
     },
     "execution_count": 14,
     "metadata": {},
     "output_type": "execute_result"
    }
   ],
   "source": [
    "unique_movie_ids = pd.concat([train, test]).movieId.unique()\n",
    "unique_movie_ids.shape"
   ]
  },
  {
   "cell_type": "code",
   "execution_count": 15,
   "metadata": {},
   "outputs": [],
   "source": [
    "# Preprocessing precomputed metadata_files (similarity files) to only include movies rated by some people (which we are observing)\n",
    "def preprocess_metadata(metadata_file):\n",
    "    metadata = pd.read_csv(metadata_file, sep=\"\\t\", encoding=\"CP1250\", header=None, names=[\"item1\", \"item2\", \"rel\"])\n",
    "    filtered = metadata.loc[metadata[\"item1\"].isin(unique_movie_ids) & metadata[\"item2\"].isin(unique_movie_ids)]\n",
    "    filtered.to_csv(f\"processed/{metadata_file}\", index=False, header=False, sep=\"\\t\", encoding=\"CP1250\", errors=\"ignore\")"
   ]
  },
  {
   "cell_type": "code",
   "execution_count": 16,
   "metadata": {},
   "outputs": [],
   "source": [
    "preprocess_metadata(\"title_sim.dat\")\n",
    "preprocess_metadata(\"tag_sim.dat\")\n",
    "preprocess_metadata(\"genre_sim.dat\")\n",
    "preprocess_metadata(\"title_tag_sim.dat\")\n",
    "preprocess_metadata(\"title_genre_sim.dat\")"
   ]
  },
  {
   "attachments": {},
   "cell_type": "markdown",
   "metadata": {},
   "source": [
    "### Train and evaluate"
   ]
  },
  {
   "attachments": {},
   "cell_type": "markdown",
   "metadata": {},
   "source": [
    "Using *caserec* RS library we evaluate CB RecSys using real ratings made by users in testing data. If the item recommended to the user is seen by the user in testing data, we think of it as relevant."
   ]
  },
  {
   "cell_type": "code",
   "execution_count": 17,
   "metadata": {},
   "outputs": [],
   "source": [
    "from caserec.recommenders.item_recommendation.content_based import ContentBased\n",
    "\n",
    "# Top-N recommendations\n",
    "RANK_LENGTH = 50\n",
    "# Optional metrics used for evaluation: [\"PREC\", \"RECALL\", \"NDCG\", \"MAP\"]\n",
    "METRICS = [\"PREC\", \"RECALL\", \"NDCG\", \"MAP\"]\n",
    "# For which ranks we evaluate metrics\n",
    "RANK_EVAL = [10, 20, 50]"
   ]
  },
  {
   "attachments": {},
   "cell_type": "markdown",
   "metadata": {},
   "source": [
    "Title similarity"
   ]
  },
  {
   "cell_type": "code",
   "execution_count": 18,
   "metadata": {},
   "outputs": [
    {
     "name": "stdout",
     "output_type": "stream",
     "text": [
      "[Case Recommender: Item Recommendation > Content Based Algorithm]\n",
      "\n",
      "train data:: 610 users and 1297 items (45491 interactions) | sparsity:: 94.25%\n",
      "test data:: 610 users and 1297 items (22407 interactions) | sparsity:: 97.17%\n",
      "\n",
      "training_time:: 0.007982 sec\n",
      "prediction_time:: 22.567967 sec\n",
      "\n",
      "\n",
      "PREC@10\tPREC@20\tPREC@50\tRECALL@10\tRECALL@20\tRECALL@50\tNDCG@10\tNDCG@20\tNDCG@50\tMAP@10\tMAP@20\tMAP@50\t\n",
      "0.06623\t0.085656\t0.081607\t0.023463\t0.063036\t0.128316\t0.216975\t0.258815\t0.291939\t0.132644\t0.136731\t0.133862\t\n"
     ]
    }
   ],
   "source": [
    "title_model = ContentBased(\"train.dat\", \"test.dat\", similarity_file=\"processed/title_sim.dat\", \n",
    "                             output_file=\"output/rank_title.dat\", as_binary=False, rank_length=RANK_LENGTH)\n",
    "title_model.compute(as_table=True, table_sep=\"\\t\", metrics=METRICS, n_ranks=RANK_EVAL)"
   ]
  },
  {
   "attachments": {},
   "cell_type": "markdown",
   "metadata": {},
   "source": [
    "Tags similarity"
   ]
  },
  {
   "cell_type": "code",
   "execution_count": 19,
   "metadata": {},
   "outputs": [
    {
     "name": "stdout",
     "output_type": "stream",
     "text": [
      "[Case Recommender: Item Recommendation > Content Based Algorithm]\n",
      "\n",
      "train data:: 610 users and 1297 items (45491 interactions) | sparsity:: 94.25%\n",
      "test data:: 610 users and 1297 items (22407 interactions) | sparsity:: 97.17%\n",
      "\n",
      "training_time:: 0.010037 sec\n",
      "prediction_time:: 22.910093 sec\n",
      "\n",
      "\n",
      "PREC@10\tPREC@20\tPREC@50\tRECALL@10\tRECALL@20\tRECALL@50\tNDCG@10\tNDCG@20\tNDCG@50\tMAP@10\tMAP@20\tMAP@50\t\n",
      "0.047869\t0.047951\t0.051934\t0.013491\t0.029481\t0.094047\t0.174812\t0.213229\t0.248201\t0.117574\t0.120592\t0.100002\t\n"
     ]
    }
   ],
   "source": [
    "tag_model = ContentBased(\"train.dat\", \"test.dat\", similarity_file=\"processed/tag_sim.dat\", \n",
    "                             output_file=\"output/rank_tag.dat\", as_binary=False, rank_length=RANK_LENGTH)\n",
    "tag_model.compute(as_table=True, table_sep=\"\\t\", metrics=METRICS, n_ranks=RANK_EVAL)"
   ]
  },
  {
   "attachments": {},
   "cell_type": "markdown",
   "metadata": {},
   "source": [
    "Genre similarity"
   ]
  },
  {
   "cell_type": "code",
   "execution_count": 20,
   "metadata": {},
   "outputs": [
    {
     "name": "stdout",
     "output_type": "stream",
     "text": [
      "[Case Recommender: Item Recommendation > Content Based Algorithm]\n",
      "\n",
      "train data:: 610 users and 1297 items (45491 interactions) | sparsity:: 94.25%\n",
      "test data:: 610 users and 1297 items (22407 interactions) | sparsity:: 97.17%\n",
      "\n",
      "training_time:: 1.218894 sec\n",
      "prediction_time:: 23.614394 sec\n",
      "\n",
      "\n",
      "PREC@10\tPREC@20\tPREC@50\tRECALL@10\tRECALL@20\tRECALL@50\tNDCG@10\tNDCG@20\tNDCG@50\tMAP@10\tMAP@20\tMAP@50\t\n",
      "0.055738\t0.051885\t0.041213\t0.015075\t0.027308\t0.05433\t0.216125\t0.228107\t0.245012\t0.149846\t0.140758\t0.1212\t\n"
     ]
    }
   ],
   "source": [
    "genre_model = ContentBased(\"train.dat\", \"test.dat\", similarity_file=\"processed/genre_sim.dat\", \n",
    "                             output_file=\"output/rank_genre.dat\", as_binary=False, rank_length=RANK_LENGTH)\n",
    "genre_model.compute(as_table=True, table_sep=\"\\t\", metrics=METRICS, n_ranks=RANK_EVAL)"
   ]
  },
  {
   "attachments": {},
   "cell_type": "markdown",
   "metadata": {},
   "source": [
    "Combination of Title and Tag similarities"
   ]
  },
  {
   "cell_type": "code",
   "execution_count": 21,
   "metadata": {},
   "outputs": [
    {
     "name": "stdout",
     "output_type": "stream",
     "text": [
      "[Case Recommender: Item Recommendation > Content Based Algorithm]\n",
      "\n",
      "train data:: 610 users and 1297 items (45491 interactions) | sparsity:: 94.25%\n",
      "test data:: 610 users and 1297 items (22407 interactions) | sparsity:: 97.17%\n",
      "\n",
      "training_time:: 0.010617 sec\n",
      "prediction_time:: 22.795777 sec\n",
      "\n",
      "\n",
      "PREC@10\tPREC@20\tPREC@50\tRECALL@10\tRECALL@20\tRECALL@50\tNDCG@10\tNDCG@20\tNDCG@50\tMAP@10\tMAP@20\tMAP@50\t\n",
      "0.047541\t0.047295\t0.050328\t0.013271\t0.028799\t0.09214\t0.174127\t0.211382\t0.246048\t0.117886\t0.11984\t0.099411\t\n"
     ]
    }
   ],
   "source": [
    "title_tag_model = ContentBased(\"train.dat\", \"test.dat\", similarity_file=\"processed/title_tag_sim.dat\", \n",
    "                             output_file=\"output/rank_title_tag.dat\", as_binary=False, rank_length=RANK_LENGTH)\n",
    "title_tag_model.compute(as_table=True, table_sep=\"\\t\", metrics=METRICS, n_ranks=RANK_EVAL)"
   ]
  },
  {
   "attachments": {},
   "cell_type": "markdown",
   "metadata": {},
   "source": [
    "Combination of Title and Genre similarities"
   ]
  },
  {
   "cell_type": "code",
   "execution_count": 22,
   "metadata": {},
   "outputs": [
    {
     "name": "stdout",
     "output_type": "stream",
     "text": [
      "[Case Recommender: Item Recommendation > Content Based Algorithm]\n",
      "\n",
      "train data:: 610 users and 1297 items (45491 interactions) | sparsity:: 94.25%\n",
      "test data:: 610 users and 1297 items (22407 interactions) | sparsity:: 97.17%\n",
      "\n",
      "training_time:: 1.182623 sec\n",
      "prediction_time:: 23.658360 sec\n",
      "\n",
      "\n",
      "PREC@10\tPREC@20\tPREC@50\tRECALL@10\tRECALL@20\tRECALL@50\tNDCG@10\tNDCG@20\tNDCG@50\tMAP@10\tMAP@20\tMAP@50\t\n",
      "0.055738\t0.051885\t0.04118\t0.015075\t0.027308\t0.054002\t0.216125\t0.228098\t0.244707\t0.149027\t0.139932\t0.12034\t\n"
     ]
    }
   ],
   "source": [
    "title_genre_model = ContentBased(\"train.dat\", \"test.dat\", similarity_file=\"processed/title_genre_sim.dat\", \n",
    "                             output_file=\"output/rank_title_genre.dat\", as_binary=False, rank_length=RANK_LENGTH)\n",
    "title_genre_model.compute(as_table=True, table_sep=\"\\t\", metrics=METRICS, n_ranks=RANK_EVAL)"
   ]
  },
  {
   "attachments": {},
   "cell_type": "markdown",
   "metadata": {},
   "source": [
    "Some example of recommendation using title+genre variant:"
   ]
  },
  {
   "cell_type": "code",
   "execution_count": 23,
   "metadata": {},
   "outputs": [
    {
     "data": {
      "text/html": [
       "<div>\n",
       "<style scoped>\n",
       "    .dataframe tbody tr th:only-of-type {\n",
       "        vertical-align: middle;\n",
       "    }\n",
       "\n",
       "    .dataframe tbody tr th {\n",
       "        vertical-align: top;\n",
       "    }\n",
       "\n",
       "    .dataframe thead th {\n",
       "        text-align: right;\n",
       "    }\n",
       "</style>\n",
       "<table border=\"1\" class=\"dataframe\">\n",
       "  <thead>\n",
       "    <tr style=\"text-align: right;\">\n",
       "      <th></th>\n",
       "      <th>userId</th>\n",
       "      <th>movieId</th>\n",
       "      <th>rating</th>\n",
       "      <th>title</th>\n",
       "      <th>tags</th>\n",
       "      <th>genres</th>\n",
       "    </tr>\n",
       "  </thead>\n",
       "  <tbody>\n",
       "    <tr>\n",
       "      <th>24900</th>\n",
       "      <td>498</td>\n",
       "      <td>917</td>\n",
       "      <td>0.585525</td>\n",
       "      <td>Entrapment</td>\n",
       "      <td></td>\n",
       "      <td>children|drama</td>\n",
       "    </tr>\n",
       "    <tr>\n",
       "      <th>9696</th>\n",
       "      <td>193</td>\n",
       "      <td>412</td>\n",
       "      <td>0.582343</td>\n",
       "      <td>Multiplicity</td>\n",
       "      <td>assassination</td>\n",
       "      <td>drama</td>\n",
       "    </tr>\n",
       "    <tr>\n",
       "      <th>9684</th>\n",
       "      <td>193</td>\n",
       "      <td>334</td>\n",
       "      <td>0.582343</td>\n",
       "      <td>Sense and Sensibility</td>\n",
       "      <td>bus</td>\n",
       "      <td>drama</td>\n",
       "    </tr>\n",
       "    <tr>\n",
       "      <th>9670</th>\n",
       "      <td>193</td>\n",
       "      <td>254</td>\n",
       "      <td>0.582343</td>\n",
       "      <td>Strictly Ballroom</td>\n",
       "      <td>assassin jean reno hit men action assassin ass...</td>\n",
       "      <td>drama</td>\n",
       "    </tr>\n",
       "    <tr>\n",
       "      <th>9671</th>\n",
       "      <td>193</td>\n",
       "      <td>263</td>\n",
       "      <td>0.582343</td>\n",
       "      <td>Mars Attacks!</td>\n",
       "      <td></td>\n",
       "      <td>drama</td>\n",
       "    </tr>\n",
       "  </tbody>\n",
       "</table>\n",
       "</div>"
      ],
      "text/plain": [
       "       userId  movieId    rating                  title  \\\n",
       "24900     498      917  0.585525             Entrapment   \n",
       "9696      193      412  0.582343           Multiplicity   \n",
       "9684      193      334  0.582343  Sense and Sensibility   \n",
       "9670      193      254  0.582343      Strictly Ballroom   \n",
       "9671      193      263  0.582343          Mars Attacks!   \n",
       "\n",
       "                                                    tags          genres  \n",
       "24900                                                     children|drama  \n",
       "9696                                       assassination           drama  \n",
       "9684                                                 bus           drama  \n",
       "9670   assassin jean reno hit men action assassin ass...           drama  \n",
       "9671                                                               drama  "
      ]
     },
     "execution_count": 23,
     "metadata": {},
     "output_type": "execute_result"
    }
   ],
   "source": [
    "ranking = pd.read_csv('output/rank_title_genre.dat', sep='\\t', names=[\"userId\", \"movieId\", \"rating\"])\n",
    "ranking[\"title\"] = ranking.movieId.map(movieId_title)\n",
    "ranking[\"tags\"] = ranking.movieId.map(movieId_tags)\n",
    "ranking[\"genres\"] = ranking.movieId.map(movieId_genres)\n",
    "ranking.sort_values(by=\"rating\", ascending=False).head(5)"
   ]
  },
  {
   "cell_type": "code",
   "execution_count": 24,
   "metadata": {},
   "outputs": [
    {
     "data": {
      "text/html": [
       "<div>\n",
       "<style scoped>\n",
       "    .dataframe tbody tr th:only-of-type {\n",
       "        vertical-align: middle;\n",
       "    }\n",
       "\n",
       "    .dataframe tbody tr th {\n",
       "        vertical-align: top;\n",
       "    }\n",
       "\n",
       "    .dataframe thead th {\n",
       "        text-align: right;\n",
       "    }\n",
       "</style>\n",
       "<table border=\"1\" class=\"dataframe\">\n",
       "  <thead>\n",
       "    <tr style=\"text-align: right;\">\n",
       "      <th></th>\n",
       "      <th>userId</th>\n",
       "      <th>movieId</th>\n",
       "      <th>rating</th>\n",
       "      <th>title</th>\n",
       "      <th>tags</th>\n",
       "      <th>genres</th>\n",
       "    </tr>\n",
       "  </thead>\n",
       "  <tbody>\n",
       "    <tr>\n",
       "      <th>50</th>\n",
       "      <td>1</td>\n",
       "      <td>4</td>\n",
       "      <td>0.399869</td>\n",
       "      <td>Usual Suspects, The</td>\n",
       "      <td>pregnancy remake</td>\n",
       "      <td>comedy|drama|romance</td>\n",
       "    </tr>\n",
       "    <tr>\n",
       "      <th>51</th>\n",
       "      <td>1</td>\n",
       "      <td>11</td>\n",
       "      <td>0.399869</td>\n",
       "      <td>Clerks</td>\n",
       "      <td></td>\n",
       "      <td>comedy|drama|romance</td>\n",
       "    </tr>\n",
       "    <tr>\n",
       "      <th>52</th>\n",
       "      <td>1</td>\n",
       "      <td>52</td>\n",
       "      <td>0.399869</td>\n",
       "      <td>Reservoir Dogs</td>\n",
       "      <td>writing</td>\n",
       "      <td>comedy|drama|romance</td>\n",
       "    </tr>\n",
       "    <tr>\n",
       "      <th>53</th>\n",
       "      <td>1</td>\n",
       "      <td>58</td>\n",
       "      <td>0.399869</td>\n",
       "      <td>Star Wars: Episode V - The Empire Strikes Back</td>\n",
       "      <td></td>\n",
       "      <td>comedy|drama|romance</td>\n",
       "    </tr>\n",
       "    <tr>\n",
       "      <th>54</th>\n",
       "      <td>1</td>\n",
       "      <td>94</td>\n",
       "      <td>0.399869</td>\n",
       "      <td>Wild Things</td>\n",
       "      <td></td>\n",
       "      <td>comedy|drama|romance</td>\n",
       "    </tr>\n",
       "    <tr>\n",
       "      <th>55</th>\n",
       "      <td>1</td>\n",
       "      <td>195</td>\n",
       "      <td>0.399869</td>\n",
       "      <td>Girl with the Dragon Tattoo, The</td>\n",
       "      <td></td>\n",
       "      <td>comedy|drama|romance</td>\n",
       "    </tr>\n",
       "    <tr>\n",
       "      <th>56</th>\n",
       "      <td>1</td>\n",
       "      <td>224</td>\n",
       "      <td>0.399869</td>\n",
       "      <td>Heavenly Creatures</td>\n",
       "      <td>classic space action action sci fi epic great ...</td>\n",
       "      <td>comedy|drama|romance</td>\n",
       "    </tr>\n",
       "    <tr>\n",
       "      <th>57</th>\n",
       "      <td>1</td>\n",
       "      <td>232</td>\n",
       "      <td>0.399869</td>\n",
       "      <td>In the Name of the Father</td>\n",
       "      <td></td>\n",
       "      <td>comedy|drama|romance</td>\n",
       "    </tr>\n",
       "    <tr>\n",
       "      <th>58</th>\n",
       "      <td>1</td>\n",
       "      <td>281</td>\n",
       "      <td>0.399869</td>\n",
       "      <td>Waking Ned Devine (a.k.a. Waking Ned)</td>\n",
       "      <td></td>\n",
       "      <td>comedy|drama|romance</td>\n",
       "    </tr>\n",
       "    <tr>\n",
       "      <th>59</th>\n",
       "      <td>1</td>\n",
       "      <td>351</td>\n",
       "      <td>0.399869</td>\n",
       "      <td>Crimson Tide</td>\n",
       "      <td></td>\n",
       "      <td>comedy|drama|romance</td>\n",
       "    </tr>\n",
       "  </tbody>\n",
       "</table>\n",
       "</div>"
      ],
      "text/plain": [
       "    userId  movieId    rating                                           title  \\\n",
       "50       1        4  0.399869                             Usual Suspects, The   \n",
       "51       1       11  0.399869                                          Clerks   \n",
       "52       1       52  0.399869                                  Reservoir Dogs   \n",
       "53       1       58  0.399869  Star Wars: Episode V - The Empire Strikes Back   \n",
       "54       1       94  0.399869                                     Wild Things   \n",
       "55       1      195  0.399869                Girl with the Dragon Tattoo, The   \n",
       "56       1      224  0.399869                              Heavenly Creatures   \n",
       "57       1      232  0.399869                       In the Name of the Father   \n",
       "58       1      281  0.399869           Waking Ned Devine (a.k.a. Waking Ned)   \n",
       "59       1      351  0.399869                                    Crimson Tide   \n",
       "\n",
       "                                                 tags                genres  \n",
       "50                                   pregnancy remake  comedy|drama|romance  \n",
       "51                                                     comedy|drama|romance  \n",
       "52                                            writing  comedy|drama|romance  \n",
       "53                                                     comedy|drama|romance  \n",
       "54                                                     comedy|drama|romance  \n",
       "55                                                     comedy|drama|romance  \n",
       "56  classic space action action sci fi epic great ...  comedy|drama|romance  \n",
       "57                                                     comedy|drama|romance  \n",
       "58                                                     comedy|drama|romance  \n",
       "59                                                     comedy|drama|romance  "
      ]
     },
     "execution_count": 24,
     "metadata": {},
     "output_type": "execute_result"
    }
   ],
   "source": [
    "# Top-10 recommendation for User 1\n",
    "ranking.loc[ranking.userId == 1].head(10)"
   ]
  },
  {
   "attachments": {},
   "cell_type": "markdown",
   "metadata": {},
   "source": [
    "## Summary"
   ]
  },
  {
   "attachments": {},
   "cell_type": "markdown",
   "metadata": {},
   "source": [
    "Based on the above 4 variants of using title, tag, genre, title+tag and title+genre for Content-based recommendation, these are the results:"
   ]
  },
  {
   "cell_type": "code",
   "execution_count": 41,
   "metadata": {},
   "outputs": [
    {
     "data": {
      "image/png": "[encoded data removed]",
      "text/plain": [
       "<Figure size 640x480 with 2 Axes>"
      ]
     },
     "metadata": {},
     "output_type": "display_data"
    }
   ],
   "source": [
    "# x = [\"PREC@10\",\"PREC@20\",\"PREC@50\",\"RECALL@10\",\"RECALL@20\",\"RECALL@50\",\"NDCG@10\",\"NDCG@20\",\"NDCG@50\",\"MAP@10\",\"MAP@20\",\"MAP@50\"]\n",
    "labels = [\"PREC@20\",\"RECALL@20\",\"NDCG@20\",\"MAP@20\"]\n",
    "y1 = [0.085656,0.063036,0.258815,0.136731]\n",
    "y2 = [0.047951,0.029481,0.213229,0.120592]\n",
    "y3 = [0.051885,0.027308,0.228107,0.140758]\n",
    "\n",
    "x = np.arange(len(labels))\n",
    "width = 0.25\n",
    "\n",
    "fig, ax = plt.subplots()\n",
    "ax = fig.add_axes([0,0,1,1])\n",
    "rects1 = ax.bar(x - 0.25, y1, width, label=\"Title\")\n",
    "rects2 = ax.bar(x, y2, width, label=\"Tag\")\n",
    "rects3 = ax.bar(x + 0.25, y3, width, label=\"Genre\")\n",
    "\n",
    "ax.set_ylabel(\"Metric value\")\n",
    "ax.set_title(\"Metric evalution at TOP 20\")\n",
    "ax.set_xticks(x, labels)\n",
    "ax.legend()\n",
    "\n",
    "ax.bar_label(rects1, padding=3, fmt='%.2f')\n",
    "ax.bar_label(rects2, padding=3, fmt='%.2f')\n",
    "ax.bar_label(rects3, padding=3, fmt='%.2f')\n",
    "\n",
    "plt.show()"
   ]
  },
  {
   "attachments": {},
   "cell_type": "markdown",
   "metadata": {},
   "source": [
    "The Title-based similarities are the best-performing, followed by Genre and then Tags.\n",
    "\n",
    "The Tags in the ML 100k dataset are extremely sparsed, so for better evaluation the ML 27M dataset could be used."
   ]
  }
 ],
 "metadata": {
  "kernelspec": {
   "display_name": "Python 3",
   "language": "python",
   "name": "python3"
  },
  "language_info": {
   "codemirror_mode": {
    "name": "ipython",
    "version": 3
   },
   "file_extension": ".py",
   "mimetype": "text/x-python",
   "name": "python",
   "nbconvert_exporter": "python",
   "pygments_lexer": "ipython3",
   "version": "3.10.10"
  },
  "orig_nbformat": 4,
  "vscode": {
   "interpreter": {
    "hash": "951acce4ee2d6eb9fe3565b96e466293146d7f1585a7e067fb08e2ff6ef89eb0"
   }
  }
 },
 "nbformat": 4,
 "nbformat_minor": 2
}
