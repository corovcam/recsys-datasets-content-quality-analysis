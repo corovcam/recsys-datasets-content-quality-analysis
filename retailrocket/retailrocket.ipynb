{
 "cells": [
  {
   "cell_type": "code",
   "execution_count": 2,
   "metadata": {},
   "outputs": [],
   "source": [
    "import numpy as np\n",
    "import pandas as pd\n",
    "from pandas.errors import SettingWithCopyWarning\n",
    "from sklearn.model_selection import train_test_split\n",
    "import warnings\n",
    "warnings.simplefilter(action='ignore', category=FutureWarning)\n",
    "warnings.simplefilter(action='ignore', category=SettingWithCopyWarning)"
   ]
  },
  {
   "cell_type": "code",
   "execution_count": 3,
   "metadata": {},
   "outputs": [],
   "source": [
    "add_to_cart_df = pd.read_csv(\"retailrocket_dataset/add_to_cart_ecommerce.dat\", usecols=[\"visitorid\", \"itemid\"], sep=\"\\t\")\n",
    "purchase_df = pd.read_csv(\"retailrocket_dataset/purchase_ecommerce.dat\", usecols=[\"visitorid\", \"itemid\"], sep=\"\\t\")\n",
    "view_df = pd.read_csv(\"retailrocket_dataset/view_ecommerce.dat\", usecols=[\"visitorid\", \"itemid\"], sep=\"\\t\")"
   ]
  },
  {
   "cell_type": "code",
   "execution_count": 4,
   "metadata": {},
   "outputs": [
    {
     "data": {
      "text/html": [
       "<div>\n",
       "<style scoped>\n",
       "    .dataframe tbody tr th:only-of-type {\n",
       "        vertical-align: middle;\n",
       "    }\n",
       "\n",
       "    .dataframe tbody tr th {\n",
       "        vertical-align: top;\n",
       "    }\n",
       "\n",
       "    .dataframe thead th {\n",
       "        text-align: right;\n",
       "    }\n",
       "</style>\n",
       "<table border=\"1\" class=\"dataframe\">\n",
       "  <thead>\n",
       "    <tr style=\"text-align: right;\">\n",
       "      <th></th>\n",
       "      <th>visitorid</th>\n",
       "      <th>itemid</th>\n",
       "    </tr>\n",
       "  </thead>\n",
       "  <tbody>\n",
       "    <tr>\n",
       "      <th>0</th>\n",
       "      <td>1</td>\n",
       "      <td>1</td>\n",
       "    </tr>\n",
       "    <tr>\n",
       "      <th>1</th>\n",
       "      <td>1</td>\n",
       "      <td>16</td>\n",
       "    </tr>\n",
       "    <tr>\n",
       "      <th>2</th>\n",
       "      <td>2</td>\n",
       "      <td>21</td>\n",
       "    </tr>\n",
       "    <tr>\n",
       "      <th>3</th>\n",
       "      <td>4</td>\n",
       "      <td>60</td>\n",
       "    </tr>\n",
       "    <tr>\n",
       "      <th>4</th>\n",
       "      <td>7</td>\n",
       "      <td>103</td>\n",
       "    </tr>\n",
       "    <tr>\n",
       "      <th>...</th>\n",
       "      <td>...</td>\n",
       "      <td>...</td>\n",
       "    </tr>\n",
       "    <tr>\n",
       "      <th>9023</th>\n",
       "      <td>3425</td>\n",
       "      <td>4635</td>\n",
       "    </tr>\n",
       "    <tr>\n",
       "      <th>9024</th>\n",
       "      <td>3425</td>\n",
       "      <td>5463</td>\n",
       "    </tr>\n",
       "    <tr>\n",
       "      <th>9025</th>\n",
       "      <td>3425</td>\n",
       "      <td>7887</td>\n",
       "    </tr>\n",
       "    <tr>\n",
       "      <th>9026</th>\n",
       "      <td>3429</td>\n",
       "      <td>1826</td>\n",
       "    </tr>\n",
       "    <tr>\n",
       "      <th>9027</th>\n",
       "      <td>3429</td>\n",
       "      <td>4695</td>\n",
       "    </tr>\n",
       "  </tbody>\n",
       "</table>\n",
       "<p>9028 rows × 2 columns</p>\n",
       "</div>"
      ],
      "text/plain": [
       "      visitorid  itemid\n",
       "0             1       1\n",
       "1             1      16\n",
       "2             2      21\n",
       "3             4      60\n",
       "4             7     103\n",
       "...         ...     ...\n",
       "9023       3425    4635\n",
       "9024       3425    5463\n",
       "9025       3425    7887\n",
       "9026       3429    1826\n",
       "9027       3429    4695\n",
       "\n",
       "[9028 rows x 2 columns]"
      ]
     },
     "execution_count": 4,
     "metadata": {},
     "output_type": "execute_result"
    }
   ],
   "source": [
    "add_to_cart_df"
   ]
  },
  {
   "attachments": {},
   "cell_type": "markdown",
   "metadata": {},
   "source": [
    "Let's use this implicit feedback information to construct weights depending on \"event\" or user activity recorded. We have 3 events, which we can sort based on importance:\n",
    "1. View\n",
    "    - is the least important, so we assign it a weight of **1/5**\n",
    "2. Add to cart\n",
    "    - is second in importance, so we assign it a weight of **2/5**\n",
    "3. Purchase\n",
    "    - is the most importnat, so we assign it a weight of **3/5**"
   ]
  },
  {
   "cell_type": "code",
   "execution_count": 38,
   "metadata": {},
   "outputs": [
    {
     "data": {
      "text/html": [
       "<div>\n",
       "<style scoped>\n",
       "    .dataframe tbody tr th:only-of-type {\n",
       "        vertical-align: middle;\n",
       "    }\n",
       "\n",
       "    .dataframe tbody tr th {\n",
       "        vertical-align: top;\n",
       "    }\n",
       "\n",
       "    .dataframe thead th {\n",
       "        text-align: right;\n",
       "    }\n",
       "</style>\n",
       "<table border=\"1\" class=\"dataframe\">\n",
       "  <thead>\n",
       "    <tr style=\"text-align: right;\">\n",
       "      <th></th>\n",
       "      <th>visitorid</th>\n",
       "      <th>itemid</th>\n",
       "      <th>score</th>\n",
       "    </tr>\n",
       "  </thead>\n",
       "  <tbody>\n",
       "    <tr>\n",
       "      <th>0</th>\n",
       "      <td>1</td>\n",
       "      <td>1</td>\n",
       "      <td>0.166667</td>\n",
       "    </tr>\n",
       "    <tr>\n",
       "      <th>1</th>\n",
       "      <td>1</td>\n",
       "      <td>16</td>\n",
       "      <td>0.166667</td>\n",
       "    </tr>\n",
       "    <tr>\n",
       "      <th>2</th>\n",
       "      <td>2</td>\n",
       "      <td>21</td>\n",
       "      <td>0.166667</td>\n",
       "    </tr>\n",
       "    <tr>\n",
       "      <th>3</th>\n",
       "      <td>4</td>\n",
       "      <td>60</td>\n",
       "      <td>0.166667</td>\n",
       "    </tr>\n",
       "    <tr>\n",
       "      <th>4</th>\n",
       "      <td>7</td>\n",
       "      <td>103</td>\n",
       "      <td>0.166667</td>\n",
       "    </tr>\n",
       "    <tr>\n",
       "      <th>...</th>\n",
       "      <td>...</td>\n",
       "      <td>...</td>\n",
       "      <td>...</td>\n",
       "    </tr>\n",
       "    <tr>\n",
       "      <th>92482</th>\n",
       "      <td>3431</td>\n",
       "      <td>8881</td>\n",
       "      <td>0.333333</td>\n",
       "    </tr>\n",
       "    <tr>\n",
       "      <th>92483</th>\n",
       "      <td>3431</td>\n",
       "      <td>8882</td>\n",
       "      <td>0.333333</td>\n",
       "    </tr>\n",
       "    <tr>\n",
       "      <th>92484</th>\n",
       "      <td>3431</td>\n",
       "      <td>8883</td>\n",
       "      <td>0.333333</td>\n",
       "    </tr>\n",
       "    <tr>\n",
       "      <th>92485</th>\n",
       "      <td>3431</td>\n",
       "      <td>8884</td>\n",
       "      <td>0.333333</td>\n",
       "    </tr>\n",
       "    <tr>\n",
       "      <th>92486</th>\n",
       "      <td>3431</td>\n",
       "      <td>8885</td>\n",
       "      <td>0.333333</td>\n",
       "    </tr>\n",
       "  </tbody>\n",
       "</table>\n",
       "<p>92487 rows × 3 columns</p>\n",
       "</div>"
      ],
      "text/plain": [
       "       visitorid  itemid     score\n",
       "0              1       1  0.166667\n",
       "1              1      16  0.166667\n",
       "2              2      21  0.166667\n",
       "3              4      60  0.166667\n",
       "4              7     103  0.166667\n",
       "...          ...     ...       ...\n",
       "92482       3431    8881  0.333333\n",
       "92483       3431    8882  0.333333\n",
       "92484       3431    8883  0.333333\n",
       "92485       3431    8884  0.333333\n",
       "92486       3431    8885  0.333333\n",
       "\n",
       "[92487 rows x 3 columns]"
      ]
     },
     "execution_count": 38,
     "metadata": {},
     "output_type": "execute_result"
    }
   ],
   "source": [
    "add_to_cart_df[\"score\"] = 1/6\n",
    "view_df[\"score\"] = 2/6\n",
    "purchase_df[\"score\"] = 3/6\n",
    "\n",
    "scoresDF = pd.concat([add_to_cart_df, purchase_df, view_df], ignore_index=True)\n",
    "scoresDF"
   ]
  },
  {
   "cell_type": "code",
   "execution_count": 39,
   "metadata": {},
   "outputs": [
    {
     "data": {
      "text/plain": [
       "(8885,)"
      ]
     },
     "execution_count": 39,
     "metadata": {},
     "output_type": "execute_result"
    }
   ],
   "source": [
    "scoresDF.itemid.unique().shape"
   ]
  },
  {
   "cell_type": "code",
   "execution_count": 40,
   "metadata": {},
   "outputs": [
    {
     "data": {
      "text/plain": [
       "(3431,)"
      ]
     },
     "execution_count": 40,
     "metadata": {},
     "output_type": "execute_result"
    }
   ],
   "source": [
    "scoresDF.visitorid.unique().shape"
   ]
  },
  {
   "attachments": {},
   "cell_type": "markdown",
   "metadata": {},
   "source": [
    "Let's sum the individual scores to get final score for each time by each user."
   ]
  },
  {
   "cell_type": "code",
   "execution_count": 43,
   "metadata": {},
   "outputs": [
    {
     "data": {
      "text/html": [
       "<div>\n",
       "<style scoped>\n",
       "    .dataframe tbody tr th:only-of-type {\n",
       "        vertical-align: middle;\n",
       "    }\n",
       "\n",
       "    .dataframe tbody tr th {\n",
       "        vertical-align: top;\n",
       "    }\n",
       "\n",
       "    .dataframe thead th {\n",
       "        text-align: right;\n",
       "    }\n",
       "</style>\n",
       "<table border=\"1\" class=\"dataframe\">\n",
       "  <thead>\n",
       "    <tr style=\"text-align: right;\">\n",
       "      <th></th>\n",
       "      <th>visitorid</th>\n",
       "      <th>itemid</th>\n",
       "      <th>score</th>\n",
       "    </tr>\n",
       "  </thead>\n",
       "  <tbody>\n",
       "    <tr>\n",
       "      <th>0</th>\n",
       "      <td>1</td>\n",
       "      <td>1</td>\n",
       "      <td>1.000000</td>\n",
       "    </tr>\n",
       "    <tr>\n",
       "      <th>1</th>\n",
       "      <td>1</td>\n",
       "      <td>2</td>\n",
       "      <td>0.333333</td>\n",
       "    </tr>\n",
       "    <tr>\n",
       "      <th>2</th>\n",
       "      <td>1</td>\n",
       "      <td>3</td>\n",
       "      <td>0.333333</td>\n",
       "    </tr>\n",
       "    <tr>\n",
       "      <th>3</th>\n",
       "      <td>1</td>\n",
       "      <td>4</td>\n",
       "      <td>0.333333</td>\n",
       "    </tr>\n",
       "    <tr>\n",
       "      <th>4</th>\n",
       "      <td>1</td>\n",
       "      <td>5</td>\n",
       "      <td>0.333333</td>\n",
       "    </tr>\n",
       "    <tr>\n",
       "      <th>...</th>\n",
       "      <td>...</td>\n",
       "      <td>...</td>\n",
       "      <td>...</td>\n",
       "    </tr>\n",
       "    <tr>\n",
       "      <th>79590</th>\n",
       "      <td>3431</td>\n",
       "      <td>8881</td>\n",
       "      <td>0.333333</td>\n",
       "    </tr>\n",
       "    <tr>\n",
       "      <th>79591</th>\n",
       "      <td>3431</td>\n",
       "      <td>8882</td>\n",
       "      <td>0.333333</td>\n",
       "    </tr>\n",
       "    <tr>\n",
       "      <th>79592</th>\n",
       "      <td>3431</td>\n",
       "      <td>8883</td>\n",
       "      <td>0.333333</td>\n",
       "    </tr>\n",
       "    <tr>\n",
       "      <th>79593</th>\n",
       "      <td>3431</td>\n",
       "      <td>8884</td>\n",
       "      <td>0.333333</td>\n",
       "    </tr>\n",
       "    <tr>\n",
       "      <th>79594</th>\n",
       "      <td>3431</td>\n",
       "      <td>8885</td>\n",
       "      <td>0.333333</td>\n",
       "    </tr>\n",
       "  </tbody>\n",
       "</table>\n",
       "<p>79595 rows × 3 columns</p>\n",
       "</div>"
      ],
      "text/plain": [
       "       visitorid  itemid     score\n",
       "0              1       1  1.000000\n",
       "1              1       2  0.333333\n",
       "2              1       3  0.333333\n",
       "3              1       4  0.333333\n",
       "4              1       5  0.333333\n",
       "...          ...     ...       ...\n",
       "79590       3431    8881  0.333333\n",
       "79591       3431    8882  0.333333\n",
       "79592       3431    8883  0.333333\n",
       "79593       3431    8884  0.333333\n",
       "79594       3431    8885  0.333333\n",
       "\n",
       "[79595 rows x 3 columns]"
      ]
     },
     "execution_count": 43,
     "metadata": {},
     "output_type": "execute_result"
    }
   ],
   "source": [
    "df = scoresDF.groupby([\"visitorid\", \"itemid\"]).sum()[\"score\"].reset_index()\n",
    "df"
   ]
  },
  {
   "cell_type": "code",
   "execution_count": 47,
   "metadata": {},
   "outputs": [
    {
     "data": {
      "text/plain": [
       "<AxesSubplot: >"
      ]
     },
     "execution_count": 47,
     "metadata": {},
     "output_type": "execute_result"
    },
    {
     "data": {
      "image/png": "[encoded data removed]",
      "text/plain": [
       "<Figure size 640x480 with 1 Axes>"
      ]
     },
     "metadata": {},
     "output_type": "display_data"
    }
   ],
   "source": [
    "df.score.apply(lambda x: round(x, 2)).value_counts().plot(kind = \"bar\")"
   ]
  },
  {
   "attachments": {},
   "cell_type": "markdown",
   "metadata": {},
   "source": [
    "There are not many \"purchases\" or \"add to cart\" events in the reduced dataset (But neither in the original one.), which explains the dominance of lower scores (View events)."
   ]
  },
  {
   "attachments": {},
   "cell_type": "markdown",
   "metadata": {},
   "source": [
    "### Split Dataset "
   ]
  },
  {
   "cell_type": "code",
   "execution_count": 48,
   "metadata": {},
   "outputs": [],
   "source": [
    "train, test = train_test_split(df, test_size = 0.33, random_state = 56)\n",
    "train.to_csv(\"train.dat\", index=False, header=False, sep='\\t')\n",
    "test.to_csv(\"test.dat\", index=False, header=False, sep='\\t')"
   ]
  },
  {
   "attachments": {},
   "cell_type": "markdown",
   "metadata": {},
   "source": [
    "### Train and predict"
   ]
  },
  {
   "cell_type": "code",
   "execution_count": 49,
   "metadata": {},
   "outputs": [
    {
     "name": "stdout",
     "output_type": "stream",
     "text": [
      "[Case Recommender: Item Recommendation > UserKNN Algorithm]\n",
      "\n",
      "train data:: 3431 users and 8472 items (53328 interactions) | sparsity:: 99.82%\n",
      "test data:: 3388 users and 7290 items (26267 interactions) | sparsity:: 99.89%\n",
      "\n",
      "training_time:: 41.579913 sec\n",
      "prediction_time:: 97.160100 sec\n",
      "\n",
      "\n",
      "NDCG@1\tNDCG@3\tNDCG@5\tNDCG@10\t\n",
      "0.141677\t0.262028\t0.289982\t0.314318\t\n"
     ]
    }
   ],
   "source": [
    "from caserec.recommenders.item_recommendation.userknn import UserKNN\n",
    "\n",
    "UserKNN(\"train.dat\", \"test.dat\", \"rank_userknn.dat\", as_binary=True).compute(as_table=True, metrics=['NDCG'])"
   ]
  },
  {
   "cell_type": "code",
   "execution_count": 50,
   "metadata": {},
   "outputs": [
    {
     "name": "stdout",
     "output_type": "stream",
     "text": [
      "[Case Recommender: Item Recommendation > ItemKNN Algorithm]\n",
      "\n",
      "train data:: 3431 users and 8472 items (53328 interactions) | sparsity:: 99.82%\n",
      "test data:: 3388 users and 7290 items (26267 interactions) | sparsity:: 99.89%\n",
      "\n",
      "training_time:: 142.105714 sec\n",
      "prediction_time:: 375.502720 sec\n",
      "\n",
      "\n",
      "NDCG@1\tNDCG@3\tNDCG@5\tNDCG@10\t\n",
      "0.088548\t0.16819\t0.19059\t0.208274\t\n"
     ]
    }
   ],
   "source": [
    "from caserec.recommenders.item_recommendation.itemknn import ItemKNN\n",
    "\n",
    "ItemKNN(\"train.dat\", \"test.dat\", \"rank_itemknn.dat\", as_binary=True).compute(as_table=True, metrics=['NDCG'])"
   ]
  },
  {
   "cell_type": "code",
   "execution_count": 51,
   "metadata": {},
   "outputs": [
    {
     "name": "stdout",
     "output_type": "stream",
     "text": [
      "[Case Recommender: Item Recommendation > Most Popular]\n",
      "\n",
      "train data:: 3431 users and 8472 items (53328 interactions) | sparsity:: 99.82%\n",
      "test data:: 3388 users and 7290 items (26267 interactions) | sparsity:: 99.89%\n",
      "\n",
      "prediction_time:: 92.484861 sec\n",
      "\n",
      "\n",
      "NDCG@1\tNDCG@3\tNDCG@5\tNDCG@10\t\n",
      "0.012102\t0.02336\t0.031176\t0.04204\t\n"
     ]
    }
   ],
   "source": [
    "from caserec.recommenders.item_recommendation.most_popular import MostPopular\n",
    "\n",
    "MostPopular(\"train.dat\", \"test.dat\", \"rank_mostPopular.dat\").compute(as_table=True, metrics=['NDCG'])"
   ]
  }
 ],
 "metadata": {
  "kernelspec": {
   "display_name": "Python 3",
   "language": "python",
   "name": "python3"
  },
  "language_info": {
   "codemirror_mode": {
    "name": "ipython",
    "version": 3
   },
   "file_extension": ".py",
   "mimetype": "text/x-python",
   "name": "python",
   "nbconvert_exporter": "python",
   "pygments_lexer": "ipython3",
   "version": "3.10.10"
  },
  "orig_nbformat": 4,
  "vscode": {
   "interpreter": {
    "hash": "951acce4ee2d6eb9fe3565b96e466293146d7f1585a7e067fb08e2ff6ef89eb0"
   }
  }
 },
 "nbformat": 4,
 "nbformat_minor": 2
}
